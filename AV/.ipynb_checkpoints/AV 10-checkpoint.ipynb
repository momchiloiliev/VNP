{
 "cells": [
  {
   "cell_type": "markdown",
   "id": "0d3572ee-3587-4bd0-bc24-472705d26d18",
   "metadata": {},
   "source": [
    "# Аудиториска вежба 10: NLP"
   ]
  },
  {
   "cell_type": "markdown",
   "id": "e747ce7e-61d5-4908-8bb8-960cdbb4c14d",
   "metadata": {},
   "source": [
    "Text Vectorization is the process of converting text into a numerical representation.\n",
    "\n",
    "We can accomplish this using different methods.\n",
    "\n",
    "**Binary Term Frequency** - captures presence (1) or absence (0) of a term in a documnent.\n",
    "\n",
    "**Bag of Words (BoW) Term Frequency** - captures frequency of term in a document.\n",
    "\n",
    "**Normalized Term Frequency L1** - captures normalized BoW Term Frequency in a document.\n",
    "\n",
    "**Normalized TF-IDF (Term Frequency-Inverse Document Frequency) L2** - captures normalized TD-IDF in a document"
   ]
  },
  {
   "cell_type": "markdown",
   "id": "6df3692c-b54f-4fb7-a797-f15bccf8b9a6",
   "metadata": {},
   "source": [
    "### Binary Term Frequency"
   ]
  },
  {
   "cell_type": "code",
   "execution_count": 2,
   "id": "cccb1c7d-d578-4955-b162-1b868492fa84",
   "metadata": {},
   "outputs": [],
   "source": [
    "import pandas as pd"
   ]
  },
  {
   "cell_type": "code",
   "execution_count": 3,
   "id": "32441411-4b65-4f0c-94e2-92a20779ae9f",
   "metadata": {},
   "outputs": [],
   "source": [
    "corpus = [\"This is a brown house. This house is big. The street number is 1.\",\n",
    "          \"This is a small house. This house has 1 bedroom. The street number is 12.\",\n",
    "          \"This dog is brown. This dog likes to play.\",\n",
    "          \"The dog is in the bedroom.\"]"
   ]
  },
  {
   "cell_type": "code",
   "execution_count": 8,
   "id": "dd8b3048-ba2c-45e0-9288-32bf95985352",
   "metadata": {},
   "outputs": [],
   "source": [
    "from sklearn.feature_extraction.text import TfidfVectorizer\n",
    "\n",
    "\n",
    "#Binarna vektorizacija stave 1 ako zborut sa pojavave vo dokumentot i 0 ako ne sa pojavavae\n",
    "tv = TfidfVectorizer(binary=True, norm=None, use_idf=False, smooth_idf=False, lowercase=True, stop_words='english', token_pattern=r'(?u)\\b[A-Za-z]+\\b', min_df=1, max_df=1.0, max_features=None, ngram_range=(1, 1))\n",
    "  "
   ]
  },
  {
   "cell_type": "code",
   "execution_count": 9,
   "id": "36eebaa5-34a9-440a-a6c6-c21f7df2ea18",
   "metadata": {},
   "outputs": [],
   "source": [
    "data = pd.DataFrame(tv.fit_transform(corpus).toarray(), columns=tv.get_feature_names_out())\n"
   ]
  },
  {
   "cell_type": "code",
   "execution_count": 10,
   "id": "fc2c8e85-0811-407f-bf53-44b1db934946",
   "metadata": {},
   "outputs": [
    {
     "data": {
      "text/html": [
       "<div>\n",
       "<style scoped>\n",
       "    .dataframe tbody tr th:only-of-type {\n",
       "        vertical-align: middle;\n",
       "    }\n",
       "\n",
       "    .dataframe tbody tr th {\n",
       "        vertical-align: top;\n",
       "    }\n",
       "\n",
       "    .dataframe thead th {\n",
       "        text-align: right;\n",
       "    }\n",
       "</style>\n",
       "<table border=\"1\" class=\"dataframe\">\n",
       "  <thead>\n",
       "    <tr style=\"text-align: right;\">\n",
       "      <th></th>\n",
       "      <th>bedroom</th>\n",
       "      <th>big</th>\n",
       "      <th>brown</th>\n",
       "      <th>dog</th>\n",
       "      <th>house</th>\n",
       "      <th>likes</th>\n",
       "      <th>number</th>\n",
       "      <th>play</th>\n",
       "      <th>small</th>\n",
       "      <th>street</th>\n",
       "    </tr>\n",
       "  </thead>\n",
       "  <tbody>\n",
       "    <tr>\n",
       "      <th>0</th>\n",
       "      <td>0.0</td>\n",
       "      <td>1.0</td>\n",
       "      <td>1.0</td>\n",
       "      <td>0.0</td>\n",
       "      <td>1.0</td>\n",
       "      <td>0.0</td>\n",
       "      <td>1.0</td>\n",
       "      <td>0.0</td>\n",
       "      <td>0.0</td>\n",
       "      <td>1.0</td>\n",
       "    </tr>\n",
       "    <tr>\n",
       "      <th>1</th>\n",
       "      <td>1.0</td>\n",
       "      <td>0.0</td>\n",
       "      <td>0.0</td>\n",
       "      <td>0.0</td>\n",
       "      <td>1.0</td>\n",
       "      <td>0.0</td>\n",
       "      <td>1.0</td>\n",
       "      <td>0.0</td>\n",
       "      <td>1.0</td>\n",
       "      <td>1.0</td>\n",
       "    </tr>\n",
       "    <tr>\n",
       "      <th>2</th>\n",
       "      <td>0.0</td>\n",
       "      <td>0.0</td>\n",
       "      <td>1.0</td>\n",
       "      <td>1.0</td>\n",
       "      <td>0.0</td>\n",
       "      <td>1.0</td>\n",
       "      <td>0.0</td>\n",
       "      <td>1.0</td>\n",
       "      <td>0.0</td>\n",
       "      <td>0.0</td>\n",
       "    </tr>\n",
       "    <tr>\n",
       "      <th>3</th>\n",
       "      <td>1.0</td>\n",
       "      <td>0.0</td>\n",
       "      <td>0.0</td>\n",
       "      <td>1.0</td>\n",
       "      <td>0.0</td>\n",
       "      <td>0.0</td>\n",
       "      <td>0.0</td>\n",
       "      <td>0.0</td>\n",
       "      <td>0.0</td>\n",
       "      <td>0.0</td>\n",
       "    </tr>\n",
       "  </tbody>\n",
       "</table>\n",
       "</div>"
      ],
      "text/plain": [
       "   bedroom  big  brown  dog  house  likes  number  play  small  street\n",
       "0      0.0  1.0    1.0  0.0    1.0    0.0     1.0   0.0    0.0     1.0\n",
       "1      1.0  0.0    0.0  0.0    1.0    0.0     1.0   0.0    1.0     1.0\n",
       "2      0.0  0.0    1.0  1.0    0.0    1.0     0.0   1.0    0.0     0.0\n",
       "3      1.0  0.0    0.0  1.0    0.0    0.0     0.0   0.0    0.0     0.0"
      ]
     },
     "execution_count": 10,
     "metadata": {},
     "output_type": "execute_result"
    }
   ],
   "source": [
    "data\n",
    "\n",
    "# #This is a brown house. This house is big. The street number is 1."
   ]
  },
  {
   "cell_type": "markdown",
   "id": "51b48c54-b218-49fc-9364-62586e229bfa",
   "metadata": {},
   "source": [
    "✔ Binary vectorization assigns 1 if the word appears in the document, otherwise 0."
   ]
  },
  {
   "cell_type": "markdown",
   "id": "a3798c8a-43d3-4e02-bd63-b68b6503ee14",
   "metadata": {},
   "source": [
    "### Bag of Words Term Frequency"
   ]
  },
  {
   "cell_type": "code",
   "execution_count": 11,
   "id": "c78fe0a7-b3fd-4f81-8d25-ba4561a3dd02",
   "metadata": {},
   "outputs": [],
   "source": [
    "tv = TfidfVectorizer(binary=False, norm=None, use_idf=False, smooth_idf=False, lowercase=True, stop_words='english', token_pattern=r'(?u)\\b[A-Za-z]+\\b', min_df=1, max_df=1.0, max_features=None, ngram_range=(1, 1))\n"
   ]
  },
  {
   "cell_type": "code",
   "execution_count": 12,
   "id": "e793df53-fce5-4576-8d09-63401642b044",
   "metadata": {},
   "outputs": [],
   "source": [
    "data = pd.DataFrame(tv.fit_transform(corpus).toarray(), columns=tv.get_feature_names_out())\n"
   ]
  },
  {
   "cell_type": "code",
   "execution_count": 13,
   "id": "01250f37-c290-4ae0-8891-0247467b3991",
   "metadata": {},
   "outputs": [
    {
     "data": {
      "text/html": [
       "<div>\n",
       "<style scoped>\n",
       "    .dataframe tbody tr th:only-of-type {\n",
       "        vertical-align: middle;\n",
       "    }\n",
       "\n",
       "    .dataframe tbody tr th {\n",
       "        vertical-align: top;\n",
       "    }\n",
       "\n",
       "    .dataframe thead th {\n",
       "        text-align: right;\n",
       "    }\n",
       "</style>\n",
       "<table border=\"1\" class=\"dataframe\">\n",
       "  <thead>\n",
       "    <tr style=\"text-align: right;\">\n",
       "      <th></th>\n",
       "      <th>bedroom</th>\n",
       "      <th>big</th>\n",
       "      <th>brown</th>\n",
       "      <th>dog</th>\n",
       "      <th>house</th>\n",
       "      <th>likes</th>\n",
       "      <th>number</th>\n",
       "      <th>play</th>\n",
       "      <th>small</th>\n",
       "      <th>street</th>\n",
       "    </tr>\n",
       "  </thead>\n",
       "  <tbody>\n",
       "    <tr>\n",
       "      <th>0</th>\n",
       "      <td>0.0</td>\n",
       "      <td>1.0</td>\n",
       "      <td>1.0</td>\n",
       "      <td>0.0</td>\n",
       "      <td>2.0</td>\n",
       "      <td>0.0</td>\n",
       "      <td>1.0</td>\n",
       "      <td>0.0</td>\n",
       "      <td>0.0</td>\n",
       "      <td>1.0</td>\n",
       "    </tr>\n",
       "    <tr>\n",
       "      <th>1</th>\n",
       "      <td>1.0</td>\n",
       "      <td>0.0</td>\n",
       "      <td>0.0</td>\n",
       "      <td>0.0</td>\n",
       "      <td>2.0</td>\n",
       "      <td>0.0</td>\n",
       "      <td>1.0</td>\n",
       "      <td>0.0</td>\n",
       "      <td>1.0</td>\n",
       "      <td>1.0</td>\n",
       "    </tr>\n",
       "    <tr>\n",
       "      <th>2</th>\n",
       "      <td>0.0</td>\n",
       "      <td>0.0</td>\n",
       "      <td>1.0</td>\n",
       "      <td>2.0</td>\n",
       "      <td>0.0</td>\n",
       "      <td>1.0</td>\n",
       "      <td>0.0</td>\n",
       "      <td>1.0</td>\n",
       "      <td>0.0</td>\n",
       "      <td>0.0</td>\n",
       "    </tr>\n",
       "    <tr>\n",
       "      <th>3</th>\n",
       "      <td>1.0</td>\n",
       "      <td>0.0</td>\n",
       "      <td>0.0</td>\n",
       "      <td>1.0</td>\n",
       "      <td>0.0</td>\n",
       "      <td>0.0</td>\n",
       "      <td>0.0</td>\n",
       "      <td>0.0</td>\n",
       "      <td>0.0</td>\n",
       "      <td>0.0</td>\n",
       "    </tr>\n",
       "  </tbody>\n",
       "</table>\n",
       "</div>"
      ],
      "text/plain": [
       "   bedroom  big  brown  dog  house  likes  number  play  small  street\n",
       "0      0.0  1.0    1.0  0.0    2.0    0.0     1.0   0.0    0.0     1.0\n",
       "1      1.0  0.0    0.0  0.0    2.0    0.0     1.0   0.0    1.0     1.0\n",
       "2      0.0  0.0    1.0  2.0    0.0    1.0     0.0   1.0    0.0     0.0\n",
       "3      1.0  0.0    0.0  1.0    0.0    0.0     0.0   0.0    0.0     0.0"
      ]
     },
     "execution_count": 13,
     "metadata": {},
     "output_type": "execute_result"
    }
   ],
   "source": [
    "data"
   ]
  },
  {
   "cell_type": "markdown",
   "id": "d5db7a23-4b13-4ef0-a9a6-a1979c3eddb0",
   "metadata": {},
   "source": [
    "✔ Counts how many times each word appears in a document."
   ]
  },
  {
   "cell_type": "markdown",
   "id": "116c9adc-24d7-48f4-88ac-7b739af25a9f",
   "metadata": {},
   "source": [
    "### Normalized Term Frequency"
   ]
  },
  {
   "cell_type": "code",
   "execution_count": 14,
   "id": "a27aa247-57f7-4ada-b1b8-1164f82908e8",
   "metadata": {},
   "outputs": [],
   "source": [
    "tv = TfidfVectorizer(binary=False, norm='l1', use_idf=False, smooth_idf=False, lowercase=True, stop_words='english', token_pattern=r'(?u)\\b[A-Za-z]+\\b', min_df=1, max_df=1.0, max_features=None, ngram_range=(1, 1))\n"
   ]
  },
  {
   "cell_type": "code",
   "execution_count": 15,
   "id": "55acb94d-c67e-41be-8292-7c6a1ed6c285",
   "metadata": {},
   "outputs": [],
   "source": [
    "data = pd.DataFrame(tv.fit_transform(corpus).toarray(), columns=tv.get_feature_names_out())\n"
   ]
  },
  {
   "cell_type": "code",
   "execution_count": 16,
   "id": "52892d36-545e-4e02-8bff-9c2cf1fbcbf5",
   "metadata": {},
   "outputs": [
    {
     "data": {
      "text/html": [
       "<div>\n",
       "<style scoped>\n",
       "    .dataframe tbody tr th:only-of-type {\n",
       "        vertical-align: middle;\n",
       "    }\n",
       "\n",
       "    .dataframe tbody tr th {\n",
       "        vertical-align: top;\n",
       "    }\n",
       "\n",
       "    .dataframe thead th {\n",
       "        text-align: right;\n",
       "    }\n",
       "</style>\n",
       "<table border=\"1\" class=\"dataframe\">\n",
       "  <thead>\n",
       "    <tr style=\"text-align: right;\">\n",
       "      <th></th>\n",
       "      <th>bedroom</th>\n",
       "      <th>big</th>\n",
       "      <th>brown</th>\n",
       "      <th>dog</th>\n",
       "      <th>house</th>\n",
       "      <th>likes</th>\n",
       "      <th>number</th>\n",
       "      <th>play</th>\n",
       "      <th>small</th>\n",
       "      <th>street</th>\n",
       "    </tr>\n",
       "  </thead>\n",
       "  <tbody>\n",
       "    <tr>\n",
       "      <th>0</th>\n",
       "      <td>0.000000</td>\n",
       "      <td>0.166667</td>\n",
       "      <td>0.166667</td>\n",
       "      <td>0.0</td>\n",
       "      <td>0.333333</td>\n",
       "      <td>0.0</td>\n",
       "      <td>0.166667</td>\n",
       "      <td>0.0</td>\n",
       "      <td>0.000000</td>\n",
       "      <td>0.166667</td>\n",
       "    </tr>\n",
       "    <tr>\n",
       "      <th>1</th>\n",
       "      <td>0.166667</td>\n",
       "      <td>0.000000</td>\n",
       "      <td>0.000000</td>\n",
       "      <td>0.0</td>\n",
       "      <td>0.333333</td>\n",
       "      <td>0.0</td>\n",
       "      <td>0.166667</td>\n",
       "      <td>0.0</td>\n",
       "      <td>0.166667</td>\n",
       "      <td>0.166667</td>\n",
       "    </tr>\n",
       "    <tr>\n",
       "      <th>2</th>\n",
       "      <td>0.000000</td>\n",
       "      <td>0.000000</td>\n",
       "      <td>0.200000</td>\n",
       "      <td>0.4</td>\n",
       "      <td>0.000000</td>\n",
       "      <td>0.2</td>\n",
       "      <td>0.000000</td>\n",
       "      <td>0.2</td>\n",
       "      <td>0.000000</td>\n",
       "      <td>0.000000</td>\n",
       "    </tr>\n",
       "    <tr>\n",
       "      <th>3</th>\n",
       "      <td>0.500000</td>\n",
       "      <td>0.000000</td>\n",
       "      <td>0.000000</td>\n",
       "      <td>0.5</td>\n",
       "      <td>0.000000</td>\n",
       "      <td>0.0</td>\n",
       "      <td>0.000000</td>\n",
       "      <td>0.0</td>\n",
       "      <td>0.000000</td>\n",
       "      <td>0.000000</td>\n",
       "    </tr>\n",
       "  </tbody>\n",
       "</table>\n",
       "</div>"
      ],
      "text/plain": [
       "    bedroom       big     brown  dog     house  likes    number  play  \\\n",
       "0  0.000000  0.166667  0.166667  0.0  0.333333    0.0  0.166667   0.0   \n",
       "1  0.166667  0.000000  0.000000  0.0  0.333333    0.0  0.166667   0.0   \n",
       "2  0.000000  0.000000  0.200000  0.4  0.000000    0.2  0.000000   0.2   \n",
       "3  0.500000  0.000000  0.000000  0.5  0.000000    0.0  0.000000   0.0   \n",
       "\n",
       "      small    street  \n",
       "0  0.000000  0.166667  \n",
       "1  0.166667  0.166667  \n",
       "2  0.000000  0.000000  \n",
       "3  0.000000  0.000000  "
      ]
     },
     "execution_count": 16,
     "metadata": {},
     "output_type": "execute_result"
    }
   ],
   "source": [
    "data"
   ]
  },
  {
   "cell_type": "markdown",
   "id": "ffb45e99-ce77-450a-bfc4-f161d093873d",
   "metadata": {},
   "source": [
    "✔ Scales the word frequency so that the sum of all word frequencies in a document equals 1.\n",
    "\n",
    "✔ Ensures documents of different lengths have comparable word importance."
   ]
  },
  {
   "cell_type": "markdown",
   "id": "89cbba36-20e6-4dc0-94d2-643e871609a2",
   "metadata": {},
   "source": [
    "### Normalized TF-IDF"
   ]
  },
  {
   "cell_type": "code",
   "execution_count": 22,
   "id": "f4c67e65-50ed-48ee-ac25-25a6a41041e5",
   "metadata": {},
   "outputs": [],
   "source": [
    "tv = TfidfVectorizer(binary=False, norm='l2', use_idf=False, smooth_idf=False, lowercase=True, stop_words='english', token_pattern=r'(?u)\\b[A-Za-z]+\\b', min_df=1, max_df=1.0, max_features=None, ngram_range=(1, 1))\n"
   ]
  },
  {
   "cell_type": "code",
   "execution_count": 23,
   "id": "78954005-99d3-49fa-a2da-d39442049c92",
   "metadata": {},
   "outputs": [],
   "source": [
    "data = pd.DataFrame(tv.fit_transform(corpus).toarray(), columns=tv.get_feature_names_out())\n"
   ]
  },
  {
   "cell_type": "code",
   "execution_count": 24,
   "id": "507fd0be-ce90-4d21-b737-cafb39ba4e25",
   "metadata": {},
   "outputs": [
    {
     "data": {
      "text/html": [
       "<div>\n",
       "<style scoped>\n",
       "    .dataframe tbody tr th:only-of-type {\n",
       "        vertical-align: middle;\n",
       "    }\n",
       "\n",
       "    .dataframe tbody tr th {\n",
       "        vertical-align: top;\n",
       "    }\n",
       "\n",
       "    .dataframe thead th {\n",
       "        text-align: right;\n",
       "    }\n",
       "</style>\n",
       "<table border=\"1\" class=\"dataframe\">\n",
       "  <thead>\n",
       "    <tr style=\"text-align: right;\">\n",
       "      <th></th>\n",
       "      <th>bedroom</th>\n",
       "      <th>big</th>\n",
       "      <th>brown</th>\n",
       "      <th>dog</th>\n",
       "      <th>house</th>\n",
       "      <th>likes</th>\n",
       "      <th>number</th>\n",
       "      <th>play</th>\n",
       "      <th>small</th>\n",
       "      <th>street</th>\n",
       "    </tr>\n",
       "  </thead>\n",
       "  <tbody>\n",
       "    <tr>\n",
       "      <th>0</th>\n",
       "      <td>0.000000</td>\n",
       "      <td>0.353553</td>\n",
       "      <td>0.353553</td>\n",
       "      <td>0.000000</td>\n",
       "      <td>0.707107</td>\n",
       "      <td>0.000000</td>\n",
       "      <td>0.353553</td>\n",
       "      <td>0.000000</td>\n",
       "      <td>0.000000</td>\n",
       "      <td>0.353553</td>\n",
       "    </tr>\n",
       "    <tr>\n",
       "      <th>1</th>\n",
       "      <td>0.353553</td>\n",
       "      <td>0.000000</td>\n",
       "      <td>0.000000</td>\n",
       "      <td>0.000000</td>\n",
       "      <td>0.707107</td>\n",
       "      <td>0.000000</td>\n",
       "      <td>0.353553</td>\n",
       "      <td>0.000000</td>\n",
       "      <td>0.353553</td>\n",
       "      <td>0.353553</td>\n",
       "    </tr>\n",
       "    <tr>\n",
       "      <th>2</th>\n",
       "      <td>0.000000</td>\n",
       "      <td>0.000000</td>\n",
       "      <td>0.377964</td>\n",
       "      <td>0.755929</td>\n",
       "      <td>0.000000</td>\n",
       "      <td>0.377964</td>\n",
       "      <td>0.000000</td>\n",
       "      <td>0.377964</td>\n",
       "      <td>0.000000</td>\n",
       "      <td>0.000000</td>\n",
       "    </tr>\n",
       "    <tr>\n",
       "      <th>3</th>\n",
       "      <td>0.707107</td>\n",
       "      <td>0.000000</td>\n",
       "      <td>0.000000</td>\n",
       "      <td>0.707107</td>\n",
       "      <td>0.000000</td>\n",
       "      <td>0.000000</td>\n",
       "      <td>0.000000</td>\n",
       "      <td>0.000000</td>\n",
       "      <td>0.000000</td>\n",
       "      <td>0.000000</td>\n",
       "    </tr>\n",
       "  </tbody>\n",
       "</table>\n",
       "</div>"
      ],
      "text/plain": [
       "    bedroom       big     brown       dog     house     likes    number  \\\n",
       "0  0.000000  0.353553  0.353553  0.000000  0.707107  0.000000  0.353553   \n",
       "1  0.353553  0.000000  0.000000  0.000000  0.707107  0.000000  0.353553   \n",
       "2  0.000000  0.000000  0.377964  0.755929  0.000000  0.377964  0.000000   \n",
       "3  0.707107  0.000000  0.000000  0.707107  0.000000  0.000000  0.000000   \n",
       "\n",
       "       play     small    street  \n",
       "0  0.000000  0.000000  0.353553  \n",
       "1  0.000000  0.353553  0.353553  \n",
       "2  0.377964  0.000000  0.000000  \n",
       "3  0.000000  0.000000  0.000000  "
      ]
     },
     "execution_count": 24,
     "metadata": {},
     "output_type": "execute_result"
    }
   ],
   "source": [
    "data"
   ]
  },
  {
   "cell_type": "markdown",
   "id": "9d47d174-7619-44eb-8d28-dcf37e7c1800",
   "metadata": {},
   "source": [
    "✔ TF-IDF (Term Frequency-Inverse Document Frequency) assigns more weight to words that appear frequently in a document but are rare across all documents.\n",
    "\n",
    "✔ L2 Norm ensures the sum of squares of all word frequencies in a document is 1."
   ]
  },
  {
   "cell_type": "markdown",
   "id": "142ebbba-cf64-4434-9fd5-9607adbbba0a",
   "metadata": {},
   "source": [
    "### Text Classification"
   ]
  },
  {
   "cell_type": "code",
   "execution_count": 17,
   "id": "55f99e11-30c1-417e-a46b-37343cb55717",
   "metadata": {},
   "outputs": [
    {
     "name": "stderr",
     "output_type": "stream",
     "text": [
      "Downloading...\n",
      "From: https://drive.google.com/uc?id=1rmX4GzVy9kKzwPjtaC0WYR34iYmb7Beu\n",
      "To: C:\\Users\\imomc\\Desktop\\VNP\\VNP\\AV\\SPAM text message 20170820 - Data.csv\n",
      "\n",
      "  0%|          | 0.00/486k [00:00<?, ?B/s]\n",
      "100%|##########| 486k/486k [00:00<00:00, 1.79MB/s]\n",
      "100%|##########| 486k/486k [00:00<00:00, 1.79MB/s]\n"
     ]
    }
   ],
   "source": [
    "!gdown 1rmX4GzVy9kKzwPjtaC0WYR34iYmb7Beu"
   ]
  },
  {
   "cell_type": "code",
   "execution_count": 27,
   "id": "ecb81c79-2ebe-456c-8430-5c731c54d0a9",
   "metadata": {},
   "outputs": [],
   "source": [
    "data = pd.read_csv('SPAM text message 20170820 - Data.csv')"
   ]
  },
  {
   "cell_type": "code",
   "execution_count": 28,
   "id": "e2f49ad8-c646-4a5f-9be1-805f447b4481",
   "metadata": {},
   "outputs": [
    {
     "data": {
      "text/html": [
       "<div>\n",
       "<style scoped>\n",
       "    .dataframe tbody tr th:only-of-type {\n",
       "        vertical-align: middle;\n",
       "    }\n",
       "\n",
       "    .dataframe tbody tr th {\n",
       "        vertical-align: top;\n",
       "    }\n",
       "\n",
       "    .dataframe thead th {\n",
       "        text-align: right;\n",
       "    }\n",
       "</style>\n",
       "<table border=\"1\" class=\"dataframe\">\n",
       "  <thead>\n",
       "    <tr style=\"text-align: right;\">\n",
       "      <th></th>\n",
       "      <th>Category</th>\n",
       "      <th>Message</th>\n",
       "    </tr>\n",
       "  </thead>\n",
       "  <tbody>\n",
       "    <tr>\n",
       "      <th>0</th>\n",
       "      <td>ham</td>\n",
       "      <td>Go until jurong point, crazy.. Available only ...</td>\n",
       "    </tr>\n",
       "    <tr>\n",
       "      <th>1</th>\n",
       "      <td>ham</td>\n",
       "      <td>Ok lar... Joking wif u oni...</td>\n",
       "    </tr>\n",
       "    <tr>\n",
       "      <th>2</th>\n",
       "      <td>spam</td>\n",
       "      <td>Free entry in 2 a wkly comp to win FA Cup fina...</td>\n",
       "    </tr>\n",
       "    <tr>\n",
       "      <th>3</th>\n",
       "      <td>ham</td>\n",
       "      <td>U dun say so early hor... U c already then say...</td>\n",
       "    </tr>\n",
       "    <tr>\n",
       "      <th>4</th>\n",
       "      <td>ham</td>\n",
       "      <td>Nah I don't think he goes to usf, he lives aro...</td>\n",
       "    </tr>\n",
       "    <tr>\n",
       "      <th>...</th>\n",
       "      <td>...</td>\n",
       "      <td>...</td>\n",
       "    </tr>\n",
       "    <tr>\n",
       "      <th>5567</th>\n",
       "      <td>spam</td>\n",
       "      <td>This is the 2nd time we have tried 2 contact u...</td>\n",
       "    </tr>\n",
       "    <tr>\n",
       "      <th>5568</th>\n",
       "      <td>ham</td>\n",
       "      <td>Will ü b going to esplanade fr home?</td>\n",
       "    </tr>\n",
       "    <tr>\n",
       "      <th>5569</th>\n",
       "      <td>ham</td>\n",
       "      <td>Pity, * was in mood for that. So...any other s...</td>\n",
       "    </tr>\n",
       "    <tr>\n",
       "      <th>5570</th>\n",
       "      <td>ham</td>\n",
       "      <td>The guy did some bitching but I acted like i'd...</td>\n",
       "    </tr>\n",
       "    <tr>\n",
       "      <th>5571</th>\n",
       "      <td>ham</td>\n",
       "      <td>Rofl. Its true to its name</td>\n",
       "    </tr>\n",
       "  </tbody>\n",
       "</table>\n",
       "<p>5572 rows × 2 columns</p>\n",
       "</div>"
      ],
      "text/plain": [
       "     Category                                            Message\n",
       "0         ham  Go until jurong point, crazy.. Available only ...\n",
       "1         ham                      Ok lar... Joking wif u oni...\n",
       "2        spam  Free entry in 2 a wkly comp to win FA Cup fina...\n",
       "3         ham  U dun say so early hor... U c already then say...\n",
       "4         ham  Nah I don't think he goes to usf, he lives aro...\n",
       "...       ...                                                ...\n",
       "5567     spam  This is the 2nd time we have tried 2 contact u...\n",
       "5568      ham               Will ü b going to esplanade fr home?\n",
       "5569      ham  Pity, * was in mood for that. So...any other s...\n",
       "5570      ham  The guy did some bitching but I acted like i'd...\n",
       "5571      ham                         Rofl. Its true to its name\n",
       "\n",
       "[5572 rows x 2 columns]"
      ]
     },
     "execution_count": 28,
     "metadata": {},
     "output_type": "execute_result"
    }
   ],
   "source": [
    "data"
   ]
  },
  {
   "cell_type": "code",
   "execution_count": 29,
   "id": "449509da-c725-455f-ada2-c2342492fc49",
   "metadata": {},
   "outputs": [],
   "source": [
    "from sklearn.model_selection import train_test_split\n",
    "\n",
    "X_train, X_test, Y_train, Y_test = train_test_split(data['Message'],  data['Category'], test_size=0.2)\n"
   ]
  },
  {
   "cell_type": "code",
   "execution_count": 30,
   "id": "0a93289f-03a6-4699-90dc-07125858e743",
   "metadata": {},
   "outputs": [
    {
     "name": "stdout",
     "output_type": "stream",
     "text": [
      "Training class distributions summary: Counter({'ham': 3831, 'spam': 626})\n",
      "Test class distributions summary: Counter({'ham': 994, 'spam': 121})\n"
     ]
    }
   ],
   "source": [
    "from collections import Counter\n",
    "\n",
    "#Proverkja dali e ne balansiran data setut\n",
    "\n",
    "print(f\"Training class distributions summary: {Counter(Y_train)}\")\n",
    "print(f\"Test class distributions summary: {Counter(Y_test)}\")"
   ]
  },
  {
   "cell_type": "code",
   "execution_count": 31,
   "id": "048d819c-8adf-437f-a1f0-adae57924153",
   "metadata": {},
   "outputs": [],
   "source": [
    "#Note: The make_pipeline() method is used to create a pipeline using the provided estimators.\n",
    "#Note: We can use it when we want to perform operations step by step on some dataset.\n",
    "from sklearn.naive_bayes import MultinomialNB\n",
    "from sklearn.pipeline import make_pipeline\n",
    "\n",
    "model = make_pipeline(TfidfVectorizer(), MultinomialNB())\n",
    "model.fit(X_train, Y_train)\n",
    "\n",
    "y_pred = model.predict(X_test)"
   ]
  },
  {
   "cell_type": "code",
   "execution_count": 32,
   "id": "dba8eb91-2a90-48bb-a41b-abc073d3194d",
   "metadata": {},
   "outputs": [
    {
     "name": "stdout",
     "output_type": "stream",
     "text": [
      "                   pre       rec       spe        f1       geo       iba       sup\n",
      "\n",
      "        ham       0.96      1.00      0.67      0.98      0.82      0.69       994\n",
      "       spam       1.00      0.67      1.00      0.80      0.82      0.65       121\n",
      "\n",
      "avg / total       0.97      0.96      0.71      0.96      0.82      0.69      1115\n",
      "\n"
     ]
    }
   ],
   "source": [
    "\n",
    "from imblearn.metrics import classification_report_imbalanced\n",
    "\n",
    "print(classification_report_imbalanced(Y_test, y_pred))"
   ]
  },
  {
   "cell_type": "code",
   "execution_count": 33,
   "id": "06b301c0-14af-49c0-8450-d1296fe667d8",
   "metadata": {},
   "outputs": [],
   "source": [
    "\n",
    "#Note: Undersampling is a technique used to balance uneven datasets by keeping all of the data from the minority class and decreasing the size of data of the majority class.\n",
    "from imblearn.pipeline import make_pipeline as make_pipeline_imb\n",
    "from imblearn.under_sampling import RandomUnderSampler\n",
    "\n",
    "model = make_pipeline_imb(TfidfVectorizer(), RandomUnderSampler(), MultinomialNB())\n",
    "model.fit(X_train, Y_train)\n",
    "\n",
    "y_pred = model.predict(X_test)"
   ]
  },
  {
   "cell_type": "code",
   "execution_count": 34,
   "id": "fd82de66-6d01-4526-af00-c0fe5d458811",
   "metadata": {},
   "outputs": [
    {
     "name": "stdout",
     "output_type": "stream",
     "text": [
      "                   pre       rec       spe        f1       geo       iba       sup\n",
      "\n",
      "        ham       1.00      0.96      0.98      0.98      0.97      0.94       994\n",
      "       spam       0.76      0.98      0.96      0.86      0.97      0.94       121\n",
      "\n",
      "avg / total       0.97      0.96      0.97      0.97      0.97      0.94      1115\n",
      "\n"
     ]
    }
   ],
   "source": [
    "\n",
    "print(classification_report_imbalanced(Y_test, y_pred))"
   ]
  },
  {
   "cell_type": "code",
   "execution_count": null,
   "id": "37cc562e-bb4a-421c-acc6-2b801aa17a91",
   "metadata": {},
   "outputs": [],
   "source": []
  }
 ],
 "metadata": {
  "kernelspec": {
   "display_name": "Python 3 (ipykernel)",
   "language": "python",
   "name": "python3"
  },
  "language_info": {
   "codemirror_mode": {
    "name": "ipython",
    "version": 3
   },
   "file_extension": ".py",
   "mimetype": "text/x-python",
   "name": "python",
   "nbconvert_exporter": "python",
   "pygments_lexer": "ipython3",
   "version": "3.10.5"
  }
 },
 "nbformat": 4,
 "nbformat_minor": 5
}
