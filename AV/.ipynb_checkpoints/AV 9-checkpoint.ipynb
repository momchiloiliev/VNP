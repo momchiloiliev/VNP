{
 "cells": [
  {
   "cell_type": "markdown",
   "id": "8164b37b-fe35-45b4-ba8a-53d4e877e1d1",
   "metadata": {},
   "source": [
    "# Auditory Task 9 - Neural Networks & Deep Learning pt2"
   ]
  },
  {
   "cell_type": "markdown",
   "id": "e453ea8f-54d4-4477-ae0c-404d87aeabdf",
   "metadata": {},
   "source": [
    "#### Time Series Forecasting with LSTM Neural Networks\n",
    "This code trains a Long Short-Term Memory (LSTM) neural network to predict Bitcoin price based on historical data."
   ]
  },
  {
   "cell_type": "code",
   "execution_count": 1,
   "id": "a2dbbabe-a193-448f-8347-0a3d9f5588d0",
   "metadata": {},
   "outputs": [],
   "source": [
    "import pandas as pd\n",
    "import seaborn as sns\n",
    "import matplotlib.pyplot as plt\n",
    "from sklearn.model_selection import train_test_split\n",
    "from sklearn.metrics import r2_score\n",
    "from sklearn.preprocessing import MinMaxScaler\n",
    "from keras.models import Sequential\n",
    "from keras.layers import Input, LSTM, Dense\n",
    "     "
   ]
  },
  {
   "cell_type": "code",
   "execution_count": 2,
   "id": "f9f42e1a-8a30-42f2-a11a-f96af77fb34b",
   "metadata": {},
   "outputs": [
    {
     "name": "stderr",
     "output_type": "stream",
     "text": [
      "Downloading...\n",
      "From (original): https://drive.google.com/uc?id=10xd_Zk0Ld_GlonTOFLNpuLyThOyi-hvq\n",
      "From (redirected): https://drive.google.com/uc?id=10xd_Zk0Ld_GlonTOFLNpuLyThOyi-hvq&confirm=t&uuid=5199e4a5-3cd6-422f-8b5a-220a6b869b45\n",
      "To: C:\\Users\\imomc\\Desktop\\VNP\\VNP\\AV\\bitstampUSD_1-min_data_2012-01-01_to_2021-03-31.csv\n",
      "\n",
      "  0%|          | 0.00/318M [00:00<?, ?B/s]\n",
      "  0%|          | 524k/318M [00:00<02:10, 2.42MB/s]\n",
      "  0%|          | 1.57M/318M [00:00<00:59, 5.35MB/s]\n",
      "  1%|          | 2.62M/318M [00:00<00:54, 5.76MB/s]\n",
      "  1%|1         | 4.72M/318M [00:00<00:31, 9.96MB/s]\n",
      "  2%|1         | 6.29M/318M [00:00<00:31, 9.90MB/s]\n",
      "  2%|2         | 7.86M/318M [00:00<00:29, 10.5MB/s]\n",
      "  3%|2         | 9.44M/318M [00:01<00:28, 10.9MB/s]\n",
      "  3%|3         | 11.0M/318M [00:01<00:27, 11.2MB/s]\n",
      "  4%|3         | 12.6M/318M [00:01<00:26, 11.4MB/s]\n",
      "  4%|4         | 14.2M/318M [00:01<00:26, 11.6MB/s]\n",
      "  5%|4         | 15.7M/318M [00:01<00:26, 11.6MB/s]\n",
      "  5%|5         | 17.3M/318M [00:01<00:27, 11.0MB/s]\n",
      "  6%|5         | 18.9M/318M [00:01<00:26, 11.3MB/s]\n",
      "  6%|6         | 20.4M/318M [00:01<00:26, 11.4MB/s]\n",
      "  7%|6         | 22.0M/318M [00:02<00:25, 11.5MB/s]\n",
      "  7%|7         | 23.6M/318M [00:02<00:25, 11.6MB/s]\n",
      "  8%|7         | 25.2M/318M [00:02<00:25, 11.7MB/s]\n",
      "  8%|8         | 26.7M/318M [00:02<00:24, 11.7MB/s]\n",
      "  9%|8         | 28.3M/318M [00:02<00:26, 11.1MB/s]\n",
      "  9%|9         | 29.9M/318M [00:02<00:25, 11.3MB/s]\n",
      " 10%|9         | 31.5M/318M [00:02<00:25, 11.1MB/s]\n",
      " 10%|#         | 33.0M/318M [00:03<00:24, 11.5MB/s]\n",
      " 11%|#         | 34.6M/318M [00:03<00:25, 11.2MB/s]\n",
      " 11%|#1        | 36.2M/318M [00:03<00:25, 10.9MB/s]\n",
      " 12%|#1        | 37.7M/318M [00:03<00:26, 10.5MB/s]\n",
      " 12%|#2        | 39.3M/318M [00:03<00:26, 10.5MB/s]\n",
      " 13%|#2        | 40.9M/318M [00:03<00:26, 10.5MB/s]\n",
      " 13%|#3        | 42.5M/318M [00:03<00:26, 10.6MB/s]\n",
      " 14%|#3        | 44.0M/318M [00:04<00:25, 10.6MB/s]\n",
      " 14%|#4        | 45.6M/318M [00:04<00:26, 10.3MB/s]\n",
      " 15%|#4        | 46.7M/318M [00:04<00:26, 10.2MB/s]\n",
      " 15%|#5        | 48.2M/318M [00:04<00:26, 10.2MB/s]\n",
      " 16%|#5        | 49.8M/318M [00:04<00:25, 10.4MB/s]\n",
      " 16%|#6        | 51.4M/318M [00:04<00:25, 10.5MB/s]\n",
      " 17%|#6        | 53.0M/318M [00:05<00:25, 10.5MB/s]\n",
      " 17%|#7        | 54.5M/318M [00:05<00:25, 10.2MB/s]\n",
      " 18%|#7        | 56.1M/318M [00:05<00:25, 10.4MB/s]\n",
      " 18%|#8        | 57.7M/318M [00:05<00:24, 10.8MB/s]\n",
      " 19%|#8        | 59.2M/318M [00:05<00:24, 10.6MB/s]\n",
      " 19%|#9        | 60.8M/318M [00:05<00:22, 11.3MB/s]\n",
      " 20%|#9        | 62.4M/318M [00:05<00:22, 11.2MB/s]\n",
      " 20%|##        | 64.0M/318M [00:06<00:23, 10.7MB/s]\n",
      " 21%|##        | 65.5M/318M [00:06<00:23, 10.7MB/s]\n",
      " 21%|##1       | 67.1M/318M [00:06<00:23, 10.8MB/s]\n",
      " 22%|##1       | 68.7M/318M [00:06<00:23, 10.8MB/s]\n",
      " 22%|##2       | 70.3M/318M [00:06<00:22, 10.8MB/s]\n",
      " 23%|##2       | 71.8M/318M [00:06<00:22, 10.9MB/s]\n",
      " 23%|##3       | 73.4M/318M [00:06<00:23, 10.4MB/s]\n",
      " 24%|##3       | 75.0M/318M [00:07<00:22, 10.5MB/s]\n",
      " 24%|##4       | 76.5M/318M [00:07<00:22, 10.7MB/s]\n",
      " 25%|##4       | 78.1M/318M [00:07<00:22, 10.7MB/s]\n",
      " 25%|##5       | 79.7M/318M [00:07<00:22, 10.8MB/s]\n",
      " 26%|##5       | 81.3M/318M [00:07<00:21, 10.8MB/s]\n",
      " 26%|##6       | 82.8M/318M [00:07<00:22, 10.4MB/s]\n",
      " 27%|##6       | 84.4M/318M [00:07<00:22, 10.5MB/s]\n",
      " 27%|##7       | 86.0M/318M [00:08<00:22, 10.3MB/s]\n",
      " 27%|##7       | 87.0M/318M [00:08<00:26, 8.84MB/s]\n",
      " 28%|##7       | 88.1M/318M [00:08<00:25, 8.97MB/s]\n",
      " 28%|##8       | 89.7M/318M [00:08<00:23, 9.77MB/s]\n",
      " 29%|##8       | 91.2M/318M [00:08<00:22, 9.93MB/s]\n",
      " 29%|##9       | 92.8M/318M [00:08<00:21, 10.3MB/s]\n",
      " 30%|##9       | 94.4M/318M [00:08<00:20, 10.7MB/s]\n",
      " 30%|###       | 95.9M/318M [00:09<00:20, 10.9MB/s]\n",
      " 31%|###       | 97.5M/318M [00:09<00:19, 11.2MB/s]\n",
      " 31%|###1      | 99.1M/318M [00:09<00:19, 11.4MB/s]\n",
      " 32%|###1      | 101M/318M [00:09<00:19, 11.0MB/s] \n",
      " 32%|###2      | 102M/318M [00:09<00:19, 11.1MB/s]\n",
      " 33%|###2      | 104M/318M [00:09<00:18, 11.3MB/s]\n",
      " 33%|###3      | 105M/318M [00:09<00:18, 11.4MB/s]\n",
      " 34%|###3      | 107M/318M [00:10<00:18, 11.6MB/s]\n",
      " 34%|###4      | 109M/318M [00:10<00:17, 11.6MB/s]\n",
      " 35%|###4      | 110M/318M [00:10<00:18, 11.2MB/s]\n",
      " 35%|###5      | 112M/318M [00:10<00:18, 11.1MB/s]\n",
      " 36%|###5      | 113M/318M [00:10<00:18, 11.3MB/s]\n",
      " 36%|###6      | 115M/318M [00:10<00:19, 10.6MB/s]\n",
      " 37%|###6      | 117M/318M [00:10<00:17, 11.7MB/s]\n",
      " 37%|###7      | 118M/318M [00:11<00:17, 11.5MB/s]\n",
      " 38%|###7      | 120M/318M [00:11<00:18, 10.8MB/s]\n",
      " 38%|###8      | 122M/318M [00:11<00:18, 10.8MB/s]\n",
      " 39%|###8      | 123M/318M [00:11<00:17, 10.9MB/s]\n",
      " 39%|###9      | 125M/318M [00:11<00:17, 10.9MB/s]\n",
      " 40%|###9      | 126M/318M [00:11<00:17, 11.0MB/s]\n",
      " 40%|####      | 128M/318M [00:11<00:18, 10.5MB/s]\n",
      " 41%|####      | 129M/318M [00:12<00:17, 10.7MB/s]\n",
      " 41%|####1     | 131M/318M [00:12<00:17, 10.8MB/s]\n",
      " 42%|####1     | 133M/318M [00:12<00:17, 10.8MB/s]\n",
      " 42%|####2     | 134M/318M [00:12<00:16, 10.9MB/s]\n",
      " 43%|####2     | 136M/318M [00:12<00:16, 10.9MB/s]\n",
      " 43%|####3     | 137M/318M [00:12<00:17, 10.4MB/s]\n",
      " 44%|####3     | 139M/318M [00:13<00:16, 10.6MB/s]\n",
      " 44%|####4     | 141M/318M [00:13<00:16, 10.7MB/s]\n",
      " 45%|####4     | 142M/318M [00:13<00:16, 10.8MB/s]\n",
      " 45%|####5     | 144M/318M [00:13<00:16, 10.4MB/s]\n",
      " 46%|####5     | 146M/318M [00:13<00:15, 11.1MB/s]\n",
      " 46%|####6     | 147M/318M [00:13<00:15, 11.1MB/s]\n",
      " 47%|####6     | 149M/318M [00:13<00:15, 11.0MB/s]\n",
      " 47%|####7     | 150M/318M [00:14<00:15, 11.0MB/s]\n",
      " 48%|####7     | 152M/318M [00:14<00:15, 11.0MB/s]\n",
      " 48%|####8     | 154M/318M [00:14<00:14, 11.0MB/s]\n",
      " 49%|####8     | 155M/318M [00:14<00:15, 10.2MB/s]\n",
      " 49%|####9     | 156M/318M [00:14<00:17, 9.36MB/s]\n",
      " 50%|####9     | 158M/318M [00:14<00:16, 9.96MB/s]\n",
      " 50%|#####     | 159M/318M [00:14<00:15, 10.3MB/s]\n",
      " 51%|#####     | 161M/318M [00:15<00:14, 10.4MB/s]\n",
      " 51%|#####1    | 163M/318M [00:15<00:14, 10.6MB/s]\n",
      " 52%|#####1    | 164M/318M [00:15<00:14, 10.3MB/s]\n",
      " 52%|#####2    | 165M/318M [00:15<00:14, 10.3MB/s]\n",
      " 53%|#####2    | 167M/318M [00:15<00:14, 10.5MB/s]\n",
      " 53%|#####3    | 168M/318M [00:15<00:14, 10.6MB/s]\n",
      " 53%|#####3    | 170M/318M [00:15<00:13, 10.7MB/s]\n",
      " 54%|#####3    | 171M/318M [00:16<00:13, 10.8MB/s]\n",
      " 54%|#####4    | 173M/318M [00:16<00:13, 10.5MB/s]\n",
      " 55%|#####4    | 175M/318M [00:16<00:13, 10.4MB/s]\n",
      " 55%|#####5    | 176M/318M [00:16<00:13, 10.8MB/s]\n",
      " 56%|#####5    | 178M/318M [00:16<00:12, 11.1MB/s]\n",
      " 56%|#####6    | 179M/318M [00:16<00:12, 11.2MB/s]\n",
      " 57%|#####6    | 181M/318M [00:16<00:12, 11.3MB/s]\n",
      " 57%|#####7    | 182M/318M [00:17<00:12, 10.8MB/s]\n",
      " 58%|#####7    | 184M/318M [00:17<00:12, 11.1MB/s]\n",
      " 58%|#####8    | 186M/318M [00:17<00:11, 11.3MB/s]\n",
      " 59%|#####8    | 187M/318M [00:17<00:11, 11.5MB/s]\n",
      " 59%|#####9    | 189M/318M [00:17<00:11, 11.5MB/s]\n",
      " 60%|#####9    | 190M/318M [00:17<00:10, 11.6MB/s]\n",
      " 60%|######    | 192M/318M [00:17<00:10, 11.7MB/s]\n",
      " 61%|######    | 193M/318M [00:18<00:11, 11.3MB/s]\n",
      " 61%|######1   | 195M/318M [00:18<00:10, 11.2MB/s]\n",
      " 62%|######1   | 197M/318M [00:18<00:10, 11.4MB/s]\n",
      " 62%|######2   | 198M/318M [00:18<00:11, 10.2MB/s]\n",
      " 63%|######2   | 200M/318M [00:18<00:11, 10.7MB/s]\n",
      " 63%|######3   | 201M/318M [00:18<00:10, 11.0MB/s]\n",
      " 64%|######3   | 203M/318M [00:18<00:10, 11.2MB/s]\n",
      " 64%|######4   | 204M/318M [00:19<00:10, 10.9MB/s]\n",
      " 65%|######4   | 206M/318M [00:19<00:10, 10.9MB/s]\n",
      " 65%|######5   | 208M/318M [00:19<00:09, 11.1MB/s]\n",
      " 66%|######5   | 209M/318M [00:19<00:09, 11.4MB/s]\n",
      " 66%|######6   | 211M/318M [00:19<00:09, 11.5MB/s]\n",
      " 67%|######6   | 212M/318M [00:19<00:09, 11.6MB/s]\n",
      " 67%|######7   | 214M/318M [00:19<00:09, 11.5MB/s]\n",
      " 68%|######7   | 215M/318M [00:20<00:09, 11.0MB/s]\n",
      " 68%|######8   | 217M/318M [00:20<00:09, 10.9MB/s]\n",
      " 69%|######8   | 219M/318M [00:20<00:08, 11.0MB/s]\n",
      " 69%|######9   | 220M/318M [00:20<00:08, 11.1MB/s]\n",
      " 70%|######9   | 222M/318M [00:20<00:10, 9.33MB/s]\n",
      " 70%|#######   | 223M/318M [00:20<00:10, 8.95MB/s]\n",
      " 71%|#######   | 224M/318M [00:20<00:09, 9.71MB/s]\n",
      " 71%|#######   | 225M/318M [00:21<00:09, 9.73MB/s]\n",
      " 71%|#######1  | 227M/318M [00:21<00:08, 10.1MB/s]\n",
      " 72%|#######1  | 229M/318M [00:21<00:08, 10.6MB/s]\n",
      " 72%|#######2  | 230M/318M [00:21<00:07, 11.0MB/s]\n",
      " 73%|#######2  | 232M/318M [00:21<00:07, 11.2MB/s]\n",
      " 73%|#######3  | 233M/318M [00:21<00:07, 11.4MB/s]\n",
      " 74%|#######3  | 235M/318M [00:21<00:07, 11.1MB/s]\n",
      " 74%|#######4  | 236M/318M [00:22<00:07, 10.9MB/s]\n",
      " 75%|#######4  | 238M/318M [00:22<00:07, 11.1MB/s]\n",
      " 75%|#######5  | 240M/318M [00:22<00:06, 11.4MB/s]\n",
      " 76%|#######5  | 241M/318M [00:22<00:06, 11.5MB/s]\n",
      " 76%|#######6  | 243M/318M [00:22<00:06, 11.5MB/s]\n",
      " 77%|#######6  | 244M/318M [00:22<00:06, 11.6MB/s]\n",
      " 77%|#######7  | 246M/318M [00:22<00:06, 11.7MB/s]\n",
      " 78%|#######7  | 247M/318M [00:23<00:06, 11.0MB/s]\n",
      " 78%|#######8  | 249M/318M [00:23<00:06, 11.2MB/s]\n",
      " 79%|#######8  | 251M/318M [00:23<00:05, 11.4MB/s]\n",
      " 79%|#######9  | 252M/318M [00:23<00:05, 11.5MB/s]\n",
      " 80%|#######9  | 254M/318M [00:23<00:05, 11.6MB/s]\n",
      " 80%|########  | 255M/318M [00:23<00:05, 11.2MB/s]\n",
      " 81%|########  | 257M/318M [00:23<00:05, 11.3MB/s]\n",
      " 81%|########1 | 258M/318M [00:24<00:05, 10.3MB/s]\n",
      " 82%|########2 | 261M/318M [00:24<00:04, 11.9MB/s]\n",
      " 83%|########2 | 262M/318M [00:24<00:04, 11.6MB/s]\n",
      " 83%|########3 | 264M/318M [00:24<00:04, 11.4MB/s]\n",
      " 84%|########3 | 265M/318M [00:24<00:04, 10.8MB/s]\n",
      " 84%|########4 | 267M/318M [00:24<00:04, 10.9MB/s]\n",
      " 85%|########4 | 268M/318M [00:24<00:04, 10.9MB/s]\n",
      " 85%|########5 | 270M/318M [00:25<00:04, 10.9MB/s]\n",
      " 86%|########5 | 272M/318M [00:25<00:04, 10.9MB/s]\n",
      " 86%|########6 | 273M/318M [00:25<00:04, 10.6MB/s]\n",
      " 87%|########6 | 275M/318M [00:25<00:04, 10.5MB/s]\n",
      " 87%|########7 | 276M/318M [00:25<00:03, 10.7MB/s]\n",
      " 88%|########7 | 278M/318M [00:25<00:03, 10.8MB/s]\n",
      " 88%|########8 | 279M/318M [00:25<00:03, 10.8MB/s]\n",
      " 89%|########8 | 281M/318M [00:26<00:03, 10.9MB/s]\n",
      " 89%|########8 | 283M/318M [00:26<00:03, 10.6MB/s]\n",
      " 89%|########9 | 284M/318M [00:26<00:03, 11.0MB/s]\n",
      " 90%|########9 | 286M/318M [00:26<00:02, 10.8MB/s]\n",
      " 90%|######### | 287M/318M [00:26<00:02, 11.5MB/s]\n",
      " 91%|######### | 289M/318M [00:26<00:02, 11.4MB/s]\n",
      " 91%|#########1| 290M/318M [00:26<00:02, 11.3MB/s]\n",
      " 92%|#########1| 292M/318M [00:27<00:02, 10.7MB/s]\n",
      " 92%|#########2| 294M/318M [00:27<00:02, 10.8MB/s]\n",
      " 93%|#########2| 295M/318M [00:27<00:02, 10.9MB/s]\n",
      " 93%|#########3| 297M/318M [00:27<00:01, 11.0MB/s]\n",
      " 94%|#########3| 298M/318M [00:27<00:01, 11.1MB/s]\n",
      " 94%|#########4| 300M/318M [00:27<00:01, 11.1MB/s]\n",
      " 95%|#########4| 301M/318M [00:27<00:01, 11.1MB/s]\n",
      " 95%|#########5| 303M/318M [00:28<00:01, 10.6MB/s]\n",
      " 96%|#########5| 305M/318M [00:28<00:01, 10.8MB/s]\n",
      " 96%|#########6| 306M/318M [00:28<00:01, 10.9MB/s]\n",
      " 97%|#########6| 308M/318M [00:28<00:00, 10.9MB/s]\n",
      " 97%|#########7| 309M/318M [00:28<00:00, 11.0MB/s]\n",
      " 98%|#########7| 311M/318M [00:28<00:00, 10.7MB/s]\n",
      " 98%|#########8| 312M/318M [00:28<00:00, 10.7MB/s]\n",
      " 99%|#########8| 314M/318M [00:29<00:00, 10.9MB/s]\n",
      " 99%|#########9| 316M/318M [00:29<00:00, 11.2MB/s]\n",
      "100%|#########9| 317M/318M [00:29<00:00, 11.3MB/s]\n",
      "100%|##########| 318M/318M [00:29<00:00, 10.8MB/s]\n"
     ]
    }
   ],
   "source": [
    "!gdown 10xd_Zk0Ld_GlonTOFLNpuLyThOyi-hvq\n",
    "     "
   ]
  },
  {
   "cell_type": "code",
   "execution_count": 3,
   "id": "33ce1afc-e2d0-49dd-b3bd-5c649cfd53a0",
   "metadata": {},
   "outputs": [],
   "source": [
    "df = pd.read_csv('bitstampUSD_1-min_data_2012-01-01_to_2021-03-31.csv')"
   ]
  },
  {
   "cell_type": "code",
   "execution_count": 4,
   "id": "2744c0a4-eab4-41e4-9b92-bdd2dcb6574b",
   "metadata": {},
   "outputs": [
    {
     "data": {
      "text/html": [
       "<div>\n",
       "<style scoped>\n",
       "    .dataframe tbody tr th:only-of-type {\n",
       "        vertical-align: middle;\n",
       "    }\n",
       "\n",
       "    .dataframe tbody tr th {\n",
       "        vertical-align: top;\n",
       "    }\n",
       "\n",
       "    .dataframe thead th {\n",
       "        text-align: right;\n",
       "    }\n",
       "</style>\n",
       "<table border=\"1\" class=\"dataframe\">\n",
       "  <thead>\n",
       "    <tr style=\"text-align: right;\">\n",
       "      <th></th>\n",
       "      <th>Timestamp</th>\n",
       "      <th>Open</th>\n",
       "      <th>High</th>\n",
       "      <th>Low</th>\n",
       "      <th>Close</th>\n",
       "      <th>Volume_(BTC)</th>\n",
       "      <th>Volume_(Currency)</th>\n",
       "      <th>Weighted_Price</th>\n",
       "    </tr>\n",
       "  </thead>\n",
       "  <tbody>\n",
       "    <tr>\n",
       "      <th>0</th>\n",
       "      <td>1325317920</td>\n",
       "      <td>4.39</td>\n",
       "      <td>4.39</td>\n",
       "      <td>4.39</td>\n",
       "      <td>4.39</td>\n",
       "      <td>0.455581</td>\n",
       "      <td>2.0</td>\n",
       "      <td>4.39</td>\n",
       "    </tr>\n",
       "    <tr>\n",
       "      <th>1</th>\n",
       "      <td>1325317980</td>\n",
       "      <td>NaN</td>\n",
       "      <td>NaN</td>\n",
       "      <td>NaN</td>\n",
       "      <td>NaN</td>\n",
       "      <td>NaN</td>\n",
       "      <td>NaN</td>\n",
       "      <td>NaN</td>\n",
       "    </tr>\n",
       "    <tr>\n",
       "      <th>2</th>\n",
       "      <td>1325318040</td>\n",
       "      <td>NaN</td>\n",
       "      <td>NaN</td>\n",
       "      <td>NaN</td>\n",
       "      <td>NaN</td>\n",
       "      <td>NaN</td>\n",
       "      <td>NaN</td>\n",
       "      <td>NaN</td>\n",
       "    </tr>\n",
       "    <tr>\n",
       "      <th>3</th>\n",
       "      <td>1325318100</td>\n",
       "      <td>NaN</td>\n",
       "      <td>NaN</td>\n",
       "      <td>NaN</td>\n",
       "      <td>NaN</td>\n",
       "      <td>NaN</td>\n",
       "      <td>NaN</td>\n",
       "      <td>NaN</td>\n",
       "    </tr>\n",
       "    <tr>\n",
       "      <th>4</th>\n",
       "      <td>1325318160</td>\n",
       "      <td>NaN</td>\n",
       "      <td>NaN</td>\n",
       "      <td>NaN</td>\n",
       "      <td>NaN</td>\n",
       "      <td>NaN</td>\n",
       "      <td>NaN</td>\n",
       "      <td>NaN</td>\n",
       "    </tr>\n",
       "  </tbody>\n",
       "</table>\n",
       "</div>"
      ],
      "text/plain": [
       "    Timestamp  Open  High   Low  Close  Volume_(BTC)  Volume_(Currency)  \\\n",
       "0  1325317920  4.39  4.39  4.39   4.39      0.455581                2.0   \n",
       "1  1325317980   NaN   NaN   NaN    NaN           NaN                NaN   \n",
       "2  1325318040   NaN   NaN   NaN    NaN           NaN                NaN   \n",
       "3  1325318100   NaN   NaN   NaN    NaN           NaN                NaN   \n",
       "4  1325318160   NaN   NaN   NaN    NaN           NaN                NaN   \n",
       "\n",
       "   Weighted_Price  \n",
       "0            4.39  \n",
       "1             NaN  \n",
       "2             NaN  \n",
       "3             NaN  \n",
       "4             NaN  "
      ]
     },
     "execution_count": 4,
     "metadata": {},
     "output_type": "execute_result"
    }
   ],
   "source": [
    "df.head()"
   ]
  },
  {
   "cell_type": "code",
   "execution_count": 5,
   "id": "60ee58db-ab56-4a79-9d29-bea9f1f63b14",
   "metadata": {},
   "outputs": [],
   "source": [
    "# Konvertire timestamps vo datetime format\n",
    "# unit=\"s\": Ова означува дека вредностите во колоната Timestamp претставуваат време во секунди од Unix Epoch (1 Јануари 1970 година, 00:00:00 UTC). Значи, секоја вредност е број на секунди од тој почетен момент.\n",
    "df[\"Timestamp\"] = pd.to_datetime(df[\"Timestamp\"], unit=\"s\")"
   ]
  },
  {
   "cell_type": "code",
   "execution_count": 6,
   "id": "59a61d0f-4c6b-4c62-bc6a-0bdde0a7393e",
   "metadata": {},
   "outputs": [],
   "source": [
    "# Go setire timestamp kuti index\n",
    "df.set_index(keys=[\"Timestamp\"], inplace=True)"
   ]
  },
  {
   "cell_type": "code",
   "execution_count": 7,
   "id": "750f9800-2342-4927-b405-2c40639863e5",
   "metadata": {},
   "outputs": [],
   "source": [
    "# Go sortire hronoloski\n",
    "df.sort_index(inplace=True)"
   ]
  },
  {
   "cell_type": "code",
   "execution_count": 8,
   "id": "e0f4995f-5905-45c2-b149-c3842a4afb06",
   "metadata": {},
   "outputs": [],
   "source": [
    "# Kreire podmnozestvo od mart 2021 pa nagore\n",
    "df = df[\"2021-03-20 00:00:00\":].copy(deep=True)"
   ]
  },
  {
   "cell_type": "code",
   "execution_count": 9,
   "id": "ff2d1778-0f14-4ec7-9db0-c148e46c22e1",
   "metadata": {},
   "outputs": [],
   "source": [
    "# Forward fill -> za hendlanje missing values\n",
    "df.ffill(inplace=True)"
   ]
  },
  {
   "cell_type": "code",
   "execution_count": 10,
   "id": "97806471-0303-4ff1-9710-303034581df7",
   "metadata": {},
   "outputs": [
    {
     "data": {
      "text/html": [
       "<div>\n",
       "<style scoped>\n",
       "    .dataframe tbody tr th:only-of-type {\n",
       "        vertical-align: middle;\n",
       "    }\n",
       "\n",
       "    .dataframe tbody tr th {\n",
       "        vertical-align: top;\n",
       "    }\n",
       "\n",
       "    .dataframe thead th {\n",
       "        text-align: right;\n",
       "    }\n",
       "</style>\n",
       "<table border=\"1\" class=\"dataframe\">\n",
       "  <thead>\n",
       "    <tr style=\"text-align: right;\">\n",
       "      <th></th>\n",
       "      <th>Open</th>\n",
       "      <th>High</th>\n",
       "      <th>Low</th>\n",
       "      <th>Close</th>\n",
       "      <th>Volume_(BTC)</th>\n",
       "      <th>Volume_(Currency)</th>\n",
       "      <th>Weighted_Price</th>\n",
       "    </tr>\n",
       "    <tr>\n",
       "      <th>Timestamp</th>\n",
       "      <th></th>\n",
       "      <th></th>\n",
       "      <th></th>\n",
       "      <th></th>\n",
       "      <th></th>\n",
       "      <th></th>\n",
       "      <th></th>\n",
       "    </tr>\n",
       "  </thead>\n",
       "  <tbody>\n",
       "    <tr>\n",
       "      <th>2021-03-20 00:00:00</th>\n",
       "      <td>58029.94</td>\n",
       "      <td>58056.38</td>\n",
       "      <td>57984.41</td>\n",
       "      <td>57984.41</td>\n",
       "      <td>0.586071</td>\n",
       "      <td>3.401285e+04</td>\n",
       "      <td>58035.397366</td>\n",
       "    </tr>\n",
       "    <tr>\n",
       "      <th>2021-03-20 00:01:00</th>\n",
       "      <td>57984.41</td>\n",
       "      <td>58018.74</td>\n",
       "      <td>57850.00</td>\n",
       "      <td>57898.50</td>\n",
       "      <td>11.624454</td>\n",
       "      <td>6.737002e+05</td>\n",
       "      <td>57955.426395</td>\n",
       "    </tr>\n",
       "    <tr>\n",
       "      <th>2021-03-20 00:02:00</th>\n",
       "      <td>57898.49</td>\n",
       "      <td>57923.95</td>\n",
       "      <td>57815.61</td>\n",
       "      <td>57902.49</td>\n",
       "      <td>7.170489</td>\n",
       "      <td>4.149455e+05</td>\n",
       "      <td>57868.515170</td>\n",
       "    </tr>\n",
       "    <tr>\n",
       "      <th>2021-03-20 00:03:00</th>\n",
       "      <td>57971.49</td>\n",
       "      <td>58183.82</td>\n",
       "      <td>57971.49</td>\n",
       "      <td>58093.58</td>\n",
       "      <td>42.251243</td>\n",
       "      <td>2.456207e+06</td>\n",
       "      <td>58133.373299</td>\n",
       "    </tr>\n",
       "    <tr>\n",
       "      <th>2021-03-20 00:04:00</th>\n",
       "      <td>58077.09</td>\n",
       "      <td>58137.00</td>\n",
       "      <td>58020.43</td>\n",
       "      <td>58020.43</td>\n",
       "      <td>6.994187</td>\n",
       "      <td>4.066059e+05</td>\n",
       "      <td>58134.832915</td>\n",
       "    </tr>\n",
       "  </tbody>\n",
       "</table>\n",
       "</div>"
      ],
      "text/plain": [
       "                         Open      High       Low     Close  Volume_(BTC)  \\\n",
       "Timestamp                                                                   \n",
       "2021-03-20 00:00:00  58029.94  58056.38  57984.41  57984.41      0.586071   \n",
       "2021-03-20 00:01:00  57984.41  58018.74  57850.00  57898.50     11.624454   \n",
       "2021-03-20 00:02:00  57898.49  57923.95  57815.61  57902.49      7.170489   \n",
       "2021-03-20 00:03:00  57971.49  58183.82  57971.49  58093.58     42.251243   \n",
       "2021-03-20 00:04:00  58077.09  58137.00  58020.43  58020.43      6.994187   \n",
       "\n",
       "                     Volume_(Currency)  Weighted_Price  \n",
       "Timestamp                                               \n",
       "2021-03-20 00:00:00       3.401285e+04    58035.397366  \n",
       "2021-03-20 00:01:00       6.737002e+05    57955.426395  \n",
       "2021-03-20 00:02:00       4.149455e+05    57868.515170  \n",
       "2021-03-20 00:03:00       2.456207e+06    58133.373299  \n",
       "2021-03-20 00:04:00       4.066059e+05    58134.832915  "
      ]
     },
     "execution_count": 10,
     "metadata": {},
     "output_type": "execute_result"
    }
   ],
   "source": [
    "df.head()"
   ]
  },
  {
   "cell_type": "code",
   "execution_count": 11,
   "id": "26213ec8-1300-42f1-a9b3-892a2e90c9a7",
   "metadata": {},
   "outputs": [
    {
     "data": {
      "image/png": "[encoded data removed]",
      "text/plain": [
       "<Figure size 800x600 with 2 Axes>"
      ]
     },
     "metadata": {},
     "output_type": "display_data"
    }
   ],
   "source": [
    "plt.figure(figsize=(8, 6))\n",
    "sns.heatmap(df.corr(), annot=True, fmt='.2f', linewidths=2)\n",
    "plt.show()"
   ]
  },
  {
   "cell_type": "code",
   "execution_count": 12,
   "id": "6f02add3-e4b3-4156-8a00-3c766741e8e4",
   "metadata": {},
   "outputs": [],
   "source": [
    "# Ja zimme samo Close centa\n",
    "df = df[[\"Close\"]].copy()"
   ]
  },
  {
   "cell_type": "code",
   "execution_count": 13,
   "id": "1b670b40-dbbe-4d95-8230-f6b41cf8f688",
   "metadata": {},
   "outputs": [],
   "source": [
    "# Ja postavavme vrednosta na lag 3 -> lag predvidave cena koristejki poslednite 3 price points\n",
    "lag = 3"
   ]
  },
  {
   "cell_type": "code",
   "execution_count": 14,
   "id": "746b1d5a-944e-4543-b997-346cd89d710e",
   "metadata": {},
   "outputs": [],
   "source": [
    "# Ova sozdava objekt na raspon od broevi pocnuvajki od 3 i zavrsuvajki na 1, namaluvajki se po 1 na sekoj cekor.\n",
    "# lag,stopping value ,kolku namaluvame\n",
    "periods = range(lag, 0, -1) # 3, 2, 1"
   ]
  },
  {
   "cell_type": "code",
   "execution_count": 15,
   "id": "2bf8cec6-9748-4ddd-9d40-d3ce2a7339c6",
   "metadata": {},
   "outputs": [
    {
     "data": {
      "text/html": [
       "<div>\n",
       "<style scoped>\n",
       "    .dataframe tbody tr th:only-of-type {\n",
       "        vertical-align: middle;\n",
       "    }\n",
       "\n",
       "    .dataframe tbody tr th {\n",
       "        vertical-align: top;\n",
       "    }\n",
       "\n",
       "    .dataframe thead th {\n",
       "        text-align: right;\n",
       "    }\n",
       "</style>\n",
       "<table border=\"1\" class=\"dataframe\">\n",
       "  <thead>\n",
       "    <tr style=\"text-align: right;\">\n",
       "      <th></th>\n",
       "      <th>Close_3</th>\n",
       "      <th>Close_2</th>\n",
       "      <th>Close_1</th>\n",
       "    </tr>\n",
       "    <tr>\n",
       "      <th>Timestamp</th>\n",
       "      <th></th>\n",
       "      <th></th>\n",
       "      <th></th>\n",
       "    </tr>\n",
       "  </thead>\n",
       "  <tbody>\n",
       "    <tr>\n",
       "      <th>2021-03-20 00:00:00</th>\n",
       "      <td>NaN</td>\n",
       "      <td>NaN</td>\n",
       "      <td>NaN</td>\n",
       "    </tr>\n",
       "    <tr>\n",
       "      <th>2021-03-20 00:01:00</th>\n",
       "      <td>NaN</td>\n",
       "      <td>NaN</td>\n",
       "      <td>57984.41</td>\n",
       "    </tr>\n",
       "    <tr>\n",
       "      <th>2021-03-20 00:02:00</th>\n",
       "      <td>NaN</td>\n",
       "      <td>57984.41</td>\n",
       "      <td>57898.50</td>\n",
       "    </tr>\n",
       "    <tr>\n",
       "      <th>2021-03-20 00:03:00</th>\n",
       "      <td>57984.41</td>\n",
       "      <td>57898.50</td>\n",
       "      <td>57902.49</td>\n",
       "    </tr>\n",
       "    <tr>\n",
       "      <th>2021-03-20 00:04:00</th>\n",
       "      <td>57898.50</td>\n",
       "      <td>57902.49</td>\n",
       "      <td>58093.58</td>\n",
       "    </tr>\n",
       "    <tr>\n",
       "      <th>...</th>\n",
       "      <td>...</td>\n",
       "      <td>...</td>\n",
       "      <td>...</td>\n",
       "    </tr>\n",
       "    <tr>\n",
       "      <th>2021-03-30 23:56:00</th>\n",
       "      <td>58698.50</td>\n",
       "      <td>58739.95</td>\n",
       "      <td>58714.31</td>\n",
       "    </tr>\n",
       "    <tr>\n",
       "      <th>2021-03-30 23:57:00</th>\n",
       "      <td>58739.95</td>\n",
       "      <td>58714.31</td>\n",
       "      <td>58686.00</td>\n",
       "    </tr>\n",
       "    <tr>\n",
       "      <th>2021-03-30 23:58:00</th>\n",
       "      <td>58714.31</td>\n",
       "      <td>58686.00</td>\n",
       "      <td>58685.81</td>\n",
       "    </tr>\n",
       "    <tr>\n",
       "      <th>2021-03-30 23:59:00</th>\n",
       "      <td>58686.00</td>\n",
       "      <td>58685.81</td>\n",
       "      <td>58723.84</td>\n",
       "    </tr>\n",
       "    <tr>\n",
       "      <th>2021-03-31 00:00:00</th>\n",
       "      <td>58685.81</td>\n",
       "      <td>58723.84</td>\n",
       "      <td>58760.59</td>\n",
       "    </tr>\n",
       "  </tbody>\n",
       "</table>\n",
       "<p>15841 rows × 3 columns</p>\n",
       "</div>"
      ],
      "text/plain": [
       "                      Close_3   Close_2   Close_1\n",
       "Timestamp                                        \n",
       "2021-03-20 00:00:00       NaN       NaN       NaN\n",
       "2021-03-20 00:01:00       NaN       NaN  57984.41\n",
       "2021-03-20 00:02:00       NaN  57984.41  57898.50\n",
       "2021-03-20 00:03:00  57984.41  57898.50  57902.49\n",
       "2021-03-20 00:04:00  57898.50  57902.49  58093.58\n",
       "...                       ...       ...       ...\n",
       "2021-03-30 23:56:00  58698.50  58739.95  58714.31\n",
       "2021-03-30 23:57:00  58739.95  58714.31  58686.00\n",
       "2021-03-30 23:58:00  58714.31  58686.00  58685.81\n",
       "2021-03-30 23:59:00  58686.00  58685.81  58723.84\n",
       "2021-03-31 00:00:00  58685.81  58723.84  58760.59\n",
       "\n",
       "[15841 rows x 3 columns]"
      ]
     },
     "execution_count": 15,
     "metadata": {},
     "output_type": "execute_result"
    }
   ],
   "source": [
    "# Presmetuvanje promeni niz vreme: Koga rabotme so vremenski serii i sakme da vidme kakvi promeni se slucuvat od do drug period. \n",
    "# Shift koristime za da vidme dobijme vrednost na predhodnata vo odnos na tekovnata\n",
    "df.shift(periods=periods)"
   ]
  },
  {
   "cell_type": "code",
   "execution_count": 16,
   "id": "7813150d-480e-45a1-829f-b22689ba932c",
   "metadata": {},
   "outputs": [],
   "source": [
    "df = pd.concat([df, df.shift(periods=periods)], axis=1)\n"
   ]
  },
  {
   "cell_type": "code",
   "execution_count": 17,
   "id": "9a99a82e-e788-409b-9d70-b37d2254ee6e",
   "metadata": {},
   "outputs": [
    {
     "data": {
      "text/html": [
       "<div>\n",
       "<style scoped>\n",
       "    .dataframe tbody tr th:only-of-type {\n",
       "        vertical-align: middle;\n",
       "    }\n",
       "\n",
       "    .dataframe tbody tr th {\n",
       "        vertical-align: top;\n",
       "    }\n",
       "\n",
       "    .dataframe thead th {\n",
       "        text-align: right;\n",
       "    }\n",
       "</style>\n",
       "<table border=\"1\" class=\"dataframe\">\n",
       "  <thead>\n",
       "    <tr style=\"text-align: right;\">\n",
       "      <th></th>\n",
       "      <th>Close</th>\n",
       "      <th>Close_3</th>\n",
       "      <th>Close_2</th>\n",
       "      <th>Close_1</th>\n",
       "    </tr>\n",
       "    <tr>\n",
       "      <th>Timestamp</th>\n",
       "      <th></th>\n",
       "      <th></th>\n",
       "      <th></th>\n",
       "      <th></th>\n",
       "    </tr>\n",
       "  </thead>\n",
       "  <tbody>\n",
       "    <tr>\n",
       "      <th>2021-03-20 00:00:00</th>\n",
       "      <td>57984.41</td>\n",
       "      <td>NaN</td>\n",
       "      <td>NaN</td>\n",
       "      <td>NaN</td>\n",
       "    </tr>\n",
       "    <tr>\n",
       "      <th>2021-03-20 00:01:00</th>\n",
       "      <td>57898.50</td>\n",
       "      <td>NaN</td>\n",
       "      <td>NaN</td>\n",
       "      <td>57984.41</td>\n",
       "    </tr>\n",
       "    <tr>\n",
       "      <th>2021-03-20 00:02:00</th>\n",
       "      <td>57902.49</td>\n",
       "      <td>NaN</td>\n",
       "      <td>57984.41</td>\n",
       "      <td>57898.50</td>\n",
       "    </tr>\n",
       "    <tr>\n",
       "      <th>2021-03-20 00:03:00</th>\n",
       "      <td>58093.58</td>\n",
       "      <td>57984.41</td>\n",
       "      <td>57898.50</td>\n",
       "      <td>57902.49</td>\n",
       "    </tr>\n",
       "    <tr>\n",
       "      <th>2021-03-20 00:04:00</th>\n",
       "      <td>58020.43</td>\n",
       "      <td>57898.50</td>\n",
       "      <td>57902.49</td>\n",
       "      <td>58093.58</td>\n",
       "    </tr>\n",
       "  </tbody>\n",
       "</table>\n",
       "</div>"
      ],
      "text/plain": [
       "                        Close   Close_3   Close_2   Close_1\n",
       "Timestamp                                                  \n",
       "2021-03-20 00:00:00  57984.41       NaN       NaN       NaN\n",
       "2021-03-20 00:01:00  57898.50       NaN       NaN  57984.41\n",
       "2021-03-20 00:02:00  57902.49       NaN  57984.41  57898.50\n",
       "2021-03-20 00:03:00  58093.58  57984.41  57898.50  57902.49\n",
       "2021-03-20 00:04:00  58020.43  57898.50  57902.49  58093.58"
      ]
     },
     "execution_count": 17,
     "metadata": {},
     "output_type": "execute_result"
    }
   ],
   "source": [
    "df.head()"
   ]
  },
  {
   "cell_type": "code",
   "execution_count": 18,
   "id": "5466f431-48dc-44ed-9366-55714c81db3c",
   "metadata": {},
   "outputs": [],
   "source": [
    "#gi otfrlime nan vrednostite\n",
    "df.dropna(axis=0, inplace=True)"
   ]
  },
  {
   "cell_type": "code",
   "execution_count": 19,
   "id": "c863d5e4-91ff-4cd5-aaea-8f980a01a460",
   "metadata": {},
   "outputs": [
    {
     "data": {
      "text/html": [
       "<div>\n",
       "<style scoped>\n",
       "    .dataframe tbody tr th:only-of-type {\n",
       "        vertical-align: middle;\n",
       "    }\n",
       "\n",
       "    .dataframe tbody tr th {\n",
       "        vertical-align: top;\n",
       "    }\n",
       "\n",
       "    .dataframe thead th {\n",
       "        text-align: right;\n",
       "    }\n",
       "</style>\n",
       "<table border=\"1\" class=\"dataframe\">\n",
       "  <thead>\n",
       "    <tr style=\"text-align: right;\">\n",
       "      <th></th>\n",
       "      <th>Close</th>\n",
       "      <th>Close_3</th>\n",
       "      <th>Close_2</th>\n",
       "      <th>Close_1</th>\n",
       "    </tr>\n",
       "    <tr>\n",
       "      <th>Timestamp</th>\n",
       "      <th></th>\n",
       "      <th></th>\n",
       "      <th></th>\n",
       "      <th></th>\n",
       "    </tr>\n",
       "  </thead>\n",
       "  <tbody>\n",
       "    <tr>\n",
       "      <th>2021-03-20 00:03:00</th>\n",
       "      <td>58093.58</td>\n",
       "      <td>57984.41</td>\n",
       "      <td>57898.50</td>\n",
       "      <td>57902.49</td>\n",
       "    </tr>\n",
       "    <tr>\n",
       "      <th>2021-03-20 00:04:00</th>\n",
       "      <td>58020.43</td>\n",
       "      <td>57898.50</td>\n",
       "      <td>57902.49</td>\n",
       "      <td>58093.58</td>\n",
       "    </tr>\n",
       "    <tr>\n",
       "      <th>2021-03-20 00:05:00</th>\n",
       "      <td>57942.98</td>\n",
       "      <td>57902.49</td>\n",
       "      <td>58093.58</td>\n",
       "      <td>58020.43</td>\n",
       "    </tr>\n",
       "    <tr>\n",
       "      <th>2021-03-20 00:06:00</th>\n",
       "      <td>57970.36</td>\n",
       "      <td>58093.58</td>\n",
       "      <td>58020.43</td>\n",
       "      <td>57942.98</td>\n",
       "    </tr>\n",
       "    <tr>\n",
       "      <th>2021-03-20 00:07:00</th>\n",
       "      <td>57944.74</td>\n",
       "      <td>58020.43</td>\n",
       "      <td>57942.98</td>\n",
       "      <td>57970.36</td>\n",
       "    </tr>\n",
       "  </tbody>\n",
       "</table>\n",
       "</div>"
      ],
      "text/plain": [
       "                        Close   Close_3   Close_2   Close_1\n",
       "Timestamp                                                  \n",
       "2021-03-20 00:03:00  58093.58  57984.41  57898.50  57902.49\n",
       "2021-03-20 00:04:00  58020.43  57898.50  57902.49  58093.58\n",
       "2021-03-20 00:05:00  57942.98  57902.49  58093.58  58020.43\n",
       "2021-03-20 00:06:00  57970.36  58093.58  58020.43  57942.98\n",
       "2021-03-20 00:07:00  57944.74  58020.43  57942.98  57970.36"
      ]
     },
     "execution_count": 19,
     "metadata": {},
     "output_type": "execute_result"
    }
   ],
   "source": [
    "df.head()"
   ]
  },
  {
   "cell_type": "code",
   "execution_count": 20,
   "id": "a767e026-2ccc-4a6f-9c1d-2d1f95aadf8c",
   "metadata": {},
   "outputs": [],
   "source": [
    "X, y = df.drop(columns=[\"Close\"]), df[\"Close\"]"
   ]
  },
  {
   "cell_type": "code",
   "execution_count": 21,
   "id": "7c5346e4-c4a3-48e0-95bb-6a2066944f33",
   "metadata": {},
   "outputs": [],
   "source": [
    "train_X, test_X, train_y, test_y = train_test_split(X, y, test_size=0.2, shuffle=False)"
   ]
  },
  {
   "cell_type": "code",
   "execution_count": 22,
   "id": "ba8367af-8d56-4675-85bb-cb2d7f1ff154",
   "metadata": {},
   "outputs": [],
   "source": [
    "scaler = MinMaxScaler()\n",
    "train_X = scaler.fit_transform(train_X)\n",
    "test_X = scaler.transform(test_X)"
   ]
  },
  {
   "cell_type": "code",
   "execution_count": 23,
   "id": "9c6e8b64-6d85-4d6c-bfb2-367583d5e935",
   "metadata": {},
   "outputs": [],
   "source": [
    "scaler = MinMaxScaler()\n",
    "train_y = scaler.fit_transform(train_y.to_numpy().reshape(-1, 1))"
   ]
  },
  {
   "cell_type": "code",
   "execution_count": 24,
   "id": "463ab505-1f76-4259-a342-1a106a1143b0",
   "metadata": {},
   "outputs": [
    {
     "data": {
      "text/plain": [
       "12670"
      ]
     },
     "execution_count": 24,
     "metadata": {},
     "output_type": "execute_result"
    }
   ],
   "source": [
    "train_X.shape[0]"
   ]
  },
  {
   "cell_type": "code",
   "execution_count": 25,
   "id": "d02baf18-4959-4274-bed9-8313ff47ba63",
   "metadata": {},
   "outputs": [
    {
     "data": {
      "text/plain": [
       "3"
      ]
     },
     "execution_count": 25,
     "metadata": {},
     "output_type": "execute_result"
    }
   ],
   "source": [
    "lag"
   ]
  },
  {
   "cell_type": "code",
   "execution_count": 26,
   "id": "1ec987ed-c103-44c3-9d72-8014d854d2ab",
   "metadata": {},
   "outputs": [
    {
     "data": {
      "text/plain": [
       "1"
      ]
     },
     "execution_count": 26,
     "metadata": {},
     "output_type": "execute_result"
    }
   ],
   "source": [
    "train_X.shape[1] // 3"
   ]
  },
  {
   "cell_type": "code",
   "execution_count": 27,
   "id": "6b7b40fc-fdf3-42c7-954c-c2bdd80ed71c",
   "metadata": {},
   "outputs": [
    {
     "data": {
      "text/plain": [
       "(12670, 3, 1)"
      ]
     },
     "execution_count": 27,
     "metadata": {},
     "output_type": "execute_result"
    }
   ],
   "source": [
    "(train_X.shape[0], lag, (train_X.shape[1] // lag)) # (samples, timesteps, features)"
   ]
  },
  {
   "cell_type": "code",
   "execution_count": 28,
   "id": "8625ce8e-1251-48ca-b3a0-760095f69a8d",
   "metadata": {},
   "outputs": [],
   "source": [
    "# LSTM brke 3D input (samples,timesteps,features)\n",
    "train_X = train_X.reshape(train_X.shape[0], lag, (train_X.shape[1] // lag))\n",
    "test_X = test_X.reshape(test_X.shape[0], lag, (test_X.shape[1] // lag))"
   ]
  },
  {
   "cell_type": "code",
   "execution_count": 29,
   "id": "5dbba0ac-b00c-4959-bb03-6f66cf7f9802",
   "metadata": {},
   "outputs": [
    {
     "data": {
      "text/plain": [
       "(3, 1)"
      ]
     },
     "execution_count": 29,
     "metadata": {},
     "output_type": "execute_result"
    }
   ],
   "source": [
    "(train_X.shape[1], train_X.shape[2]) #(timesteps,features)"
   ]
  },
  {
   "cell_type": "code",
   "execution_count": 30,
   "id": "3049af80-6c8d-405c-bd5d-29d2c3c9e794",
   "metadata": {},
   "outputs": [],
   "source": [
    "# Gradenje na LSTM Model\n",
    "    # Input-> First LSTM Layer(vrakje sekvenci) -> Second LSTM Layer(gi procesire site sekvenci) -> output layer(dense->poslednovatelni)\n",
    "model = Sequential([\n",
    "    Input((train_X.shape[1], train_X.shape[2],)), # (timestamps, features)\n",
    "    LSTM(8, activation=\"relu\", return_sequences=True),\n",
    "    LSTM(4, activation=\"relu\"),\n",
    "    Dense(1, activation=\"linear\")\n",
    "])"
   ]
  },
  {
   "cell_type": "code",
   "execution_count": 31,
   "id": "23fc1972-83cf-4036-862d-86b2ace3cdc7",
   "metadata": {},
   "outputs": [
    {
     "data": {
      "text/html": [
       "<pre style=\"white-space:pre;overflow-x:auto;line-height:normal;font-family:Menlo,'DejaVu Sans Mono',consolas,'Courier New',monospace\"><span style=\"font-weight: bold\">Model: \"sequential\"</span>\n",
       "</pre>\n"
      ],
      "text/plain": [
       "\u001b[1mModel: \"sequential\"\u001b[0m\n"
      ]
     },
     "metadata": {},
     "output_type": "display_data"
    },
    {
     "data": {
      "text/html": [
       "<pre style=\"white-space:pre;overflow-x:auto;line-height:normal;font-family:Menlo,'DejaVu Sans Mono',consolas,'Courier New',monospace\">┏━━━━━━━━━━━━━━━━━━━━━━━━━━━━━━━━━━━━━━┳━━━━━━━━━━━━━━━━━━━━━━━━━━━━━┳━━━━━━━━━━━━━━━━━┓\n",
       "┃<span style=\"font-weight: bold\"> Layer (type)                         </span>┃<span style=\"font-weight: bold\"> Output Shape                </span>┃<span style=\"font-weight: bold\">         Param # </span>┃\n",
       "┡━━━━━━━━━━━━━━━━━━━━━━━━━━━━━━━━━━━━━━╇━━━━━━━━━━━━━━━━━━━━━━━━━━━━━╇━━━━━━━━━━━━━━━━━┩\n",
       "│ lstm (<span style=\"color: #0087ff; text-decoration-color: #0087ff\">LSTM</span>)                          │ (<span style=\"color: #00d7ff; text-decoration-color: #00d7ff\">None</span>, <span style=\"color: #00af00; text-decoration-color: #00af00\">3</span>, <span style=\"color: #00af00; text-decoration-color: #00af00\">8</span>)                │             <span style=\"color: #00af00; text-decoration-color: #00af00\">320</span> │\n",
       "├──────────────────────────────────────┼─────────────────────────────┼─────────────────┤\n",
       "│ lstm_1 (<span style=\"color: #0087ff; text-decoration-color: #0087ff\">LSTM</span>)                        │ (<span style=\"color: #00d7ff; text-decoration-color: #00d7ff\">None</span>, <span style=\"color: #00af00; text-decoration-color: #00af00\">4</span>)                   │             <span style=\"color: #00af00; text-decoration-color: #00af00\">208</span> │\n",
       "├──────────────────────────────────────┼─────────────────────────────┼─────────────────┤\n",
       "│ dense (<span style=\"color: #0087ff; text-decoration-color: #0087ff\">Dense</span>)                        │ (<span style=\"color: #00d7ff; text-decoration-color: #00d7ff\">None</span>, <span style=\"color: #00af00; text-decoration-color: #00af00\">1</span>)                   │               <span style=\"color: #00af00; text-decoration-color: #00af00\">5</span> │\n",
       "└──────────────────────────────────────┴─────────────────────────────┴─────────────────┘\n",
       "</pre>\n"
      ],
      "text/plain": [
       "┏━━━━━━━━━━━━━━━━━━━━━━━━━━━━━━━━━━━━━━┳━━━━━━━━━━━━━━━━━━━━━━━━━━━━━┳━━━━━━━━━━━━━━━━━┓\n",
       "┃\u001b[1m \u001b[0m\u001b[1mLayer (type)                        \u001b[0m\u001b[1m \u001b[0m┃\u001b[1m \u001b[0m\u001b[1mOutput Shape               \u001b[0m\u001b[1m \u001b[0m┃\u001b[1m \u001b[0m\u001b[1m        Param #\u001b[0m\u001b[1m \u001b[0m┃\n",
       "┡━━━━━━━━━━━━━━━━━━━━━━━━━━━━━━━━━━━━━━╇━━━━━━━━━━━━━━━━━━━━━━━━━━━━━╇━━━━━━━━━━━━━━━━━┩\n",
       "│ lstm (\u001b[38;5;33mLSTM\u001b[0m)                          │ (\u001b[38;5;45mNone\u001b[0m, \u001b[38;5;34m3\u001b[0m, \u001b[38;5;34m8\u001b[0m)                │             \u001b[38;5;34m320\u001b[0m │\n",
       "├──────────────────────────────────────┼─────────────────────────────┼─────────────────┤\n",
       "│ lstm_1 (\u001b[38;5;33mLSTM\u001b[0m)                        │ (\u001b[38;5;45mNone\u001b[0m, \u001b[38;5;34m4\u001b[0m)                   │             \u001b[38;5;34m208\u001b[0m │\n",
       "├──────────────────────────────────────┼─────────────────────────────┼─────────────────┤\n",
       "│ dense (\u001b[38;5;33mDense\u001b[0m)                        │ (\u001b[38;5;45mNone\u001b[0m, \u001b[38;5;34m1\u001b[0m)                   │               \u001b[38;5;34m5\u001b[0m │\n",
       "└──────────────────────────────────────┴─────────────────────────────┴─────────────────┘\n"
      ]
     },
     "metadata": {},
     "output_type": "display_data"
    },
    {
     "data": {
      "text/html": [
       "<pre style=\"white-space:pre;overflow-x:auto;line-height:normal;font-family:Menlo,'DejaVu Sans Mono',consolas,'Courier New',monospace\"><span style=\"font-weight: bold\"> Total params: </span><span style=\"color: #00af00; text-decoration-color: #00af00\">533</span> (2.08 KB)\n",
       "</pre>\n"
      ],
      "text/plain": [
       "\u001b[1m Total params: \u001b[0m\u001b[38;5;34m533\u001b[0m (2.08 KB)\n"
      ]
     },
     "metadata": {},
     "output_type": "display_data"
    },
    {
     "data": {
      "text/html": [
       "<pre style=\"white-space:pre;overflow-x:auto;line-height:normal;font-family:Menlo,'DejaVu Sans Mono',consolas,'Courier New',monospace\"><span style=\"font-weight: bold\"> Trainable params: </span><span style=\"color: #00af00; text-decoration-color: #00af00\">533</span> (2.08 KB)\n",
       "</pre>\n"
      ],
      "text/plain": [
       "\u001b[1m Trainable params: \u001b[0m\u001b[38;5;34m533\u001b[0m (2.08 KB)\n"
      ]
     },
     "metadata": {},
     "output_type": "display_data"
    },
    {
     "data": {
      "text/html": [
       "<pre style=\"white-space:pre;overflow-x:auto;line-height:normal;font-family:Menlo,'DejaVu Sans Mono',consolas,'Courier New',monospace\"><span style=\"font-weight: bold\"> Non-trainable params: </span><span style=\"color: #00af00; text-decoration-color: #00af00\">0</span> (0.00 B)\n",
       "</pre>\n"
      ],
      "text/plain": [
       "\u001b[1m Non-trainable params: \u001b[0m\u001b[38;5;34m0\u001b[0m (0.00 B)\n"
      ]
     },
     "metadata": {},
     "output_type": "display_data"
    }
   ],
   "source": [
    "model.summary()"
   ]
  },
  {
   "cell_type": "code",
   "execution_count": 32,
   "id": "4e5d196a-b59d-46fb-b90f-46dfa536f0f1",
   "metadata": {},
   "outputs": [],
   "source": [
    "model.compile(\n",
    "    loss=\"mean_squared_error\",\n",
    "    optimizer=\"adam\",\n",
    "    metrics=[\"mean_squared_error\"],\n",
    ")"
   ]
  },
  {
   "cell_type": "code",
   "execution_count": 33,
   "id": "85fccbfd-890b-43fd-8262-ca8d13d29617",
   "metadata": {},
   "outputs": [
    {
     "name": "stdout",
     "output_type": "stream",
     "text": [
      "Epoch 1/4\n",
      "\u001b[1m634/634\u001b[0m \u001b[32m━━━━━━━━━━━━━━━━━━━━\u001b[0m\u001b[37m\u001b[0m \u001b[1m7s\u001b[0m 5ms/step - loss: 0.2920 - mean_squared_error: 0.2920 - val_loss: 0.0017 - val_mean_squared_error: 0.0017\n",
      "Epoch 2/4\n",
      "\u001b[1m634/634\u001b[0m \u001b[32m━━━━━━━━━━━━━━━━━━━━\u001b[0m\u001b[37m\u001b[0m \u001b[1m3s\u001b[0m 4ms/step - loss: 5.6495e-04 - mean_squared_error: 5.6495e-04 - val_loss: 0.0014 - val_mean_squared_error: 0.0014\n",
      "Epoch 3/4\n",
      "\u001b[1m634/634\u001b[0m \u001b[32m━━━━━━━━━━━━━━━━━━━━\u001b[0m\u001b[37m\u001b[0m \u001b[1m3s\u001b[0m 4ms/step - loss: 4.8937e-04 - mean_squared_error: 4.8937e-04 - val_loss: 6.6429e-04 - val_mean_squared_error: 6.6429e-04\n",
      "Epoch 4/4\n",
      "\u001b[1m634/634\u001b[0m \u001b[32m━━━━━━━━━━━━━━━━━━━━\u001b[0m\u001b[37m\u001b[0m \u001b[1m3s\u001b[0m 4ms/step - loss: 3.8203e-04 - mean_squared_error: 3.8203e-04 - val_loss: 2.4226e-04 - val_mean_squared_error: 2.4226e-04\n"
     ]
    }
   ],
   "source": [
    "history = model.fit(train_X, train_y, validation_split=0.2, epochs=4, batch_size=16, shuffle=False)\n"
   ]
  },
  {
   "cell_type": "code",
   "execution_count": 34,
   "id": "416daa9a-b05c-4fcd-8f06-e6dc32b1a791",
   "metadata": {},
   "outputs": [
    {
     "data": {
      "text/plain": [
       "<Axes: >"
      ]
     },
     "execution_count": 34,
     "metadata": {},
     "output_type": "execute_result"
    },
    {
     "data": {
      "image/png": "[encoded data removed]",
      "text/plain": [
       "<Figure size 640x480 with 1 Axes>"
      ]
     },
     "metadata": {},
     "output_type": "display_data"
    }
   ],
   "source": [
    "sns.lineplot(history.history[\"loss\"], label=\"loss\")\n",
    "sns.lineplot(history.history[\"val_loss\"], label=\"val_loss\")"
   ]
  },
  {
   "cell_type": "markdown",
   "id": "f44addcc-89e0-4422-a6fe-a1e089de4e31",
   "metadata": {},
   "source": [
    " ✔ Loss decreases significantly, indicating the model is learning well.\n",
    "✔ Final validation loss: 0.00083 (very low error)."
   ]
  },
  {
   "cell_type": "code",
   "execution_count": 35,
   "id": "a763773d-7359-418e-82f4-a11c9e10a7e8",
   "metadata": {},
   "outputs": [
    {
     "name": "stdout",
     "output_type": "stream",
     "text": [
      "\u001b[1m99/99\u001b[0m \u001b[32m━━━━━━━━━━━━━━━━━━━━\u001b[0m\u001b[37m\u001b[0m \u001b[1m0s\u001b[0m 2ms/step\n"
     ]
    }
   ],
   "source": [
    "pred_y = model.predict(test_X)"
   ]
  },
  {
   "cell_type": "code",
   "execution_count": 36,
   "id": "4d7f5000-36c7-4d5a-b286-7d611e7bc480",
   "metadata": {},
   "outputs": [],
   "source": [
    "pred_y = scaler.inverse_transform(pred_y)"
   ]
  },
  {
   "cell_type": "code",
   "execution_count": 37,
   "id": "68491f40-db80-4250-aadf-181dbaa4f6a2",
   "metadata": {},
   "outputs": [
    {
     "data": {
      "text/plain": [
       "0.9822177317553571"
      ]
     },
     "execution_count": 37,
     "metadata": {},
     "output_type": "execute_result"
    }
   ],
   "source": [
    "r2_score(test_y, pred_y)"
   ]
  },
  {
   "cell_type": "markdown",
   "id": "4b0690fd-beb6-4e02-a618-d85d5ac74f34",
   "metadata": {},
   "source": [
    "✔ Higher R² means better predictive accuracy.\n",
    "✔ 98.22% of variance is explained by the model!\n",
    "✔ Very strong performance in time series forecasting."
   ]
  },
  {
   "cell_type": "code",
   "execution_count": null,
   "id": "02f5a012-a694-49a5-a61a-6417912e6c57",
   "metadata": {},
   "outputs": [],
   "source": []
  }
 ],
 "metadata": {
  "kernelspec": {
   "display_name": "Python 3 (ipykernel)",
   "language": "python",
   "name": "python3"
  },
  "language_info": {
   "codemirror_mode": {
    "name": "ipython",
    "version": 3
   },
   "file_extension": ".py",
   "mimetype": "text/x-python",
   "name": "python",
   "nbconvert_exporter": "python",
   "pygments_lexer": "ipython3",
   "version": "3.10.5"
  }
 },
 "nbformat": 4,
 "nbformat_minor": 5
}
